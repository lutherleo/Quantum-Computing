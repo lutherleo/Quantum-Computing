{
  "nbformat": 4,
  "nbformat_minor": 0,
  "metadata": {
    "colab": {
      "name": "Qbit calculator.ipynb",
      "provenance": [],
      "collapsed_sections": [],
      "authorship_tag": "ABX9TyM/oA/PN6G5ki198S/HT+l/",
      "include_colab_link": true
    },
    "kernelspec": {
      "name": "python3",
      "display_name": "Python 3"
    },
    "language_info": {
      "name": "python"
    }
  },
  "cells": [
    {
      "cell_type": "markdown",
      "metadata": {
        "id": "view-in-github",
        "colab_type": "text"
      },
      "source": [
        "<a href=\"https://colab.research.google.com/github/lutherleo/Quantum-Computing/blob/main/Qbit_calculator.ipynb\" target=\"_parent\"><img src=\"https://colab.research.google.com/assets/colab-badge.svg\" alt=\"Open In Colab\"/></a>"
      ]
    },
    {
      "cell_type": "code",
      "metadata": {
        "id": "cIbGIJIWkRyn"
      },
      "source": [
        ""
      ],
      "execution_count": null,
      "outputs": []
    },
    {
      "cell_type": "code",
      "metadata": {
        "colab": {
          "base_uri": "https://localhost:8080/",
          "height": 382
        },
        "id": "iHQJzlgbBPoR",
        "outputId": "5bd55713-74b8-4be3-d475-cfea9cb75fd7"
      },
      "source": [
        "pip install git+https://github.com/qiskit-community/qiskit-textbook.git#subdirectory=qiskit-textbook-src\n",
        "import qiskit\n",
        "qiskit.__qiskit_version__\n",
        "from qiskit import QuantumCircuit, assemble, Aer\n",
        "from qiskit.visualization import plot_histogram\n",
        "from qiskit import QuantumCircuit, transpile, Aer, IBMQ\n",
        "from qiskit.tools.jupyter import *\n",
        "from qiskit.visualization import *\n",
        "\n",
        "\n",
        "\n",
        "a = input(\"Enter first number between 1 and 7: \")\n",
        "b = input(\"Enter second number between 1 and 7: \")\n",
        "\n",
        "c = decimalToBinary(int(a))\n",
        "d = decimalToBinary(int(b))\n",
        "\n",
        "lis_c = list(str(c))\n",
        "lis_d = list(str(d))\n",
        "rev_c = lis_c[::-1]\n",
        "rev_d = lis_d[::-1]\n",
        "\n",
        "qc_calc = QuantumCircuit(12,4)\n",
        "\n",
        "\n",
        "for i in range(0,len(rev_c)):\n",
        "  if(int(rev_c[i]) == 1):\n",
        "    qc_calc.x(int(i))\n",
        "\n",
        "for j in range(0,len(rev_d)) :\n",
        "  if(int(rev_d[j]) == 1):\n",
        "    qc_calc.x(3+ int(j)) \n",
        "\n",
        "qc_calc.barrier()\n",
        "for i in range(0,3):\n",
        "  qc_calc.cx(int(i),9-int(i))\n",
        "  qc_calc.cx(3+int(i), 9 - int(i))\n",
        "\n",
        "qc_calc.barrier()\n",
        "\n",
        "qc_calc.ccx(0,3,8)\n",
        "qc_calc.ccx(1,4,7)\n",
        "qc_calc.ccx(2,5,6)\n",
        "qc_calc.barrier()\n",
        "\n",
        "qc_calc.barrier()\n",
        "\n",
        "qc_calc.measure(9,0)\n",
        "qc_calc.measure(8,1)\n",
        "qc_calc.measure(7,2)\n",
        "qc_calc.measure(6,3)\n",
        "\n",
        "qc_calc.draw()\n",
        "\n",
        "qobj = assemble(qc_calc)\n",
        "counts = sim.run(qobj).result().get_counts()\n",
        "plot_histogram(counts)\n",
        "#print(lis_c[::-1])"
      ],
      "execution_count": null,
      "outputs": [
        {
          "output_type": "stream",
          "text": [
            "Enter first number between 1 and 7: 7\n",
            "Enter second number between 1 and 7: 7\n"
          ],
          "name": "stdout"
        },
        {
          "output_type": "execute_result",
          "data": {
            "image/png": "[encoded data removed]",
            "text/plain": [
              "<Figure size 504x360 with 1 Axes>"
            ]
          },
          "metadata": {
            "tags": []
          },
          "execution_count": 120
        }
      ]
    }
  ]
}